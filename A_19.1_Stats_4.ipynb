{
 "cells": [
  {
   "cell_type": "code",
   "execution_count": null,
   "metadata": {},
   "outputs": [],
   "source": [
    "\"\"\"\n",
    "Is gender independent of education level? A random sample of 395 people were\n",
    "surveyed and each person was asked to report the highest education level they\n",
    "obtained. The data that resulted from the survey is summarized in the following table:\n",
    "\n",
    "High School Bachelors Masters Ph.d. Total\n",
    "Female 60 54 46 41 201\n",
    "Male 40 44 53 57 194\n",
    "Total 100 98 99 98 395\n",
    "\n",
    "Question: Are gender and education level dependent at 5% level of significance? In\n",
    "other words, given the data collected above, is there a relationship between the gender\n",
    "of an individual and the level of education that they have obtained?\n",
    "\n",
    "\"\"\""
   ]
  },
  {
   "cell_type": "markdown",
   "metadata": {},
   "source": [
    "\"\"\"\n",
    "       High School   Bachelors   Masters   Ph.d.   Total\n",
    "Female      60         54          46        41      201\n",
    "Male       40          44          53        57      194\n",
    "Total      100         98          99        98      395\n",
    "\n",
    "Hypothesis:\n",
    "H0: Gender ansd educational levels are independent.\n",
    "H1: Gender and educational levels are not independent.\n",
    "\n",
    "Level of significance = 0.05\n",
    "\n",
    "\n",
    "Chi Square test for independence:\n",
    "\n",
    "Degree of Freedom, DF = (r-1) * (c -1) = (2-1)*(4-1) = 3\n",
    "\n",
    "Based on chi-square statistic and the degree of freedom we will determine the p-vale and then come to conculusion regarding hypothesis.\n",
    "\n",
    "E (r,c) = n(r) * n(c) / n\n",
    "\n",
    "E(1,1) = 201 * 100 / 395 = 50.886\n",
    "E(1,2) = 201 * 98 / 395 =  49.868\n",
    "and so on......\n",
    "\n",
    "       High School       Bachelors       Masters       Ph.d.       Total\n",
    "Female      50.886         49.868        50.377        49.868       201\n",
    "Male         49.114        48.132        48.623        48.132       194\n",
    "Total      100              98             99           98          395\n",
    "\n",
    "X2(chi-square) = (60 - 50.886)square / 50.886 + ...+ (57-48.132)square/48.132 = 8.006\n",
    "\n",
    "Critical value of chi-square with 3 degree of freedom is 7.815\n",
    "\n",
    "8.006 > 7.815, hence we reject null hypothesis and conclude that\n",
    "education level depend on gender at 5% level of significance.\n",
    "\n",
    "\n",
    "\"\"\""
   ]
  }
 ],
 "metadata": {
  "kernelspec": {
   "display_name": "Python 3",
   "language": "python",
   "name": "python3"
  },
  "language_info": {
   "codemirror_mode": {
    "name": "ipython",
    "version": 3
   },
   "file_extension": ".py",
   "mimetype": "text/x-python",
   "name": "python",
   "nbconvert_exporter": "python",
   "pygments_lexer": "ipython3",
   "version": "3.5.6"
  }
 },
 "nbformat": 4,
 "nbformat_minor": 2
}
